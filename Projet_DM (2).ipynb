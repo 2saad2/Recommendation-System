{
  "nbformat": 4,
  "nbformat_minor": 0,
  "metadata": {
    "colab": {
      "provenance": []
    },
    "kernelspec": {
      "name": "python3",
      "display_name": "Python 3"
    },
    "language_info": {
      "name": "python"
    },
    "widgets": {
      "application/vnd.jupyter.widget-state+json": {
        "f962d2f7d40348bab0be4e77e06df8cd": {
          "model_module": "@jupyter-widgets/controls",
          "model_name": "HBoxModel",
          "model_module_version": "1.5.0",
          "state": {
            "_dom_classes": [],
            "_model_module": "@jupyter-widgets/controls",
            "_model_module_version": "1.5.0",
            "_model_name": "HBoxModel",
            "_view_count": null,
            "_view_module": "@jupyter-widgets/controls",
            "_view_module_version": "1.5.0",
            "_view_name": "HBoxView",
            "box_style": "",
            "children": [
              "IPY_MODEL_aeb18c37359b4f288b032ee7feefcbb6",
              "IPY_MODEL_828abfbb273a4fe1bec13293c1e4e12d",
              "IPY_MODEL_3a8d2c0a33a64d36bcec836fc1d01144"
            ],
            "layout": "IPY_MODEL_c184bcbd190c4505b5f5f72487c90534"
          }
        },
        "aeb18c37359b4f288b032ee7feefcbb6": {
          "model_module": "@jupyter-widgets/controls",
          "model_name": "HTMLModel",
          "model_module_version": "1.5.0",
          "state": {
            "_dom_classes": [],
            "_model_module": "@jupyter-widgets/controls",
            "_model_module_version": "1.5.0",
            "_model_name": "HTMLModel",
            "_view_count": null,
            "_view_module": "@jupyter-widgets/controls",
            "_view_module_version": "1.5.0",
            "_view_name": "HTMLView",
            "description": "",
            "description_tooltip": null,
            "layout": "IPY_MODEL_0416e4394b114fae984121ef38cc40a4",
            "placeholder": "​",
            "style": "IPY_MODEL_93c464ec195246feb8b3a4964f9a41cc",
            "value": "100%"
          }
        },
        "828abfbb273a4fe1bec13293c1e4e12d": {
          "model_module": "@jupyter-widgets/controls",
          "model_name": "FloatProgressModel",
          "model_module_version": "1.5.0",
          "state": {
            "_dom_classes": [],
            "_model_module": "@jupyter-widgets/controls",
            "_model_module_version": "1.5.0",
            "_model_name": "FloatProgressModel",
            "_view_count": null,
            "_view_module": "@jupyter-widgets/controls",
            "_view_module_version": "1.5.0",
            "_view_name": "ProgressView",
            "bar_style": "success",
            "description": "",
            "description_tooltip": null,
            "layout": "IPY_MODEL_604d111ff3c64717b51e35e6226a63ae",
            "max": 100,
            "min": 0,
            "orientation": "horizontal",
            "style": "IPY_MODEL_92578eaddd74491691c2c10fd794fa69",
            "value": 100
          }
        },
        "3a8d2c0a33a64d36bcec836fc1d01144": {
          "model_module": "@jupyter-widgets/controls",
          "model_name": "HTMLModel",
          "model_module_version": "1.5.0",
          "state": {
            "_dom_classes": [],
            "_model_module": "@jupyter-widgets/controls",
            "_model_module_version": "1.5.0",
            "_model_name": "HTMLModel",
            "_view_count": null,
            "_view_module": "@jupyter-widgets/controls",
            "_view_module_version": "1.5.0",
            "_view_name": "HTMLView",
            "description": "",
            "description_tooltip": null,
            "layout": "IPY_MODEL_99c1e7df90d24525a3ef5afa8c75c37b",
            "placeholder": "​",
            "style": "IPY_MODEL_f25a8fa376d947609a5508dcf986bb74",
            "value": " 100/100 [00:01&lt;00:00, 112.91it/s, loss=2237.33]"
          }
        },
        "c184bcbd190c4505b5f5f72487c90534": {
          "model_module": "@jupyter-widgets/base",
          "model_name": "LayoutModel",
          "model_module_version": "1.2.0",
          "state": {
            "_model_module": "@jupyter-widgets/base",
            "_model_module_version": "1.2.0",
            "_model_name": "LayoutModel",
            "_view_count": null,
            "_view_module": "@jupyter-widgets/base",
            "_view_module_version": "1.2.0",
            "_view_name": "LayoutView",
            "align_content": null,
            "align_items": null,
            "align_self": null,
            "border": null,
            "bottom": null,
            "display": null,
            "flex": null,
            "flex_flow": null,
            "grid_area": null,
            "grid_auto_columns": null,
            "grid_auto_flow": null,
            "grid_auto_rows": null,
            "grid_column": null,
            "grid_gap": null,
            "grid_row": null,
            "grid_template_areas": null,
            "grid_template_columns": null,
            "grid_template_rows": null,
            "height": null,
            "justify_content": null,
            "justify_items": null,
            "left": null,
            "margin": null,
            "max_height": null,
            "max_width": null,
            "min_height": null,
            "min_width": null,
            "object_fit": null,
            "object_position": null,
            "order": null,
            "overflow": null,
            "overflow_x": null,
            "overflow_y": null,
            "padding": null,
            "right": null,
            "top": null,
            "visibility": null,
            "width": null
          }
        },
        "0416e4394b114fae984121ef38cc40a4": {
          "model_module": "@jupyter-widgets/base",
          "model_name": "LayoutModel",
          "model_module_version": "1.2.0",
          "state": {
            "_model_module": "@jupyter-widgets/base",
            "_model_module_version": "1.2.0",
            "_model_name": "LayoutModel",
            "_view_count": null,
            "_view_module": "@jupyter-widgets/base",
            "_view_module_version": "1.2.0",
            "_view_name": "LayoutView",
            "align_content": null,
            "align_items": null,
            "align_self": null,
            "border": null,
            "bottom": null,
            "display": null,
            "flex": null,
            "flex_flow": null,
            "grid_area": null,
            "grid_auto_columns": null,
            "grid_auto_flow": null,
            "grid_auto_rows": null,
            "grid_column": null,
            "grid_gap": null,
            "grid_row": null,
            "grid_template_areas": null,
            "grid_template_columns": null,
            "grid_template_rows": null,
            "height": null,
            "justify_content": null,
            "justify_items": null,
            "left": null,
            "margin": null,
            "max_height": null,
            "max_width": null,
            "min_height": null,
            "min_width": null,
            "object_fit": null,
            "object_position": null,
            "order": null,
            "overflow": null,
            "overflow_x": null,
            "overflow_y": null,
            "padding": null,
            "right": null,
            "top": null,
            "visibility": null,
            "width": null
          }
        },
        "93c464ec195246feb8b3a4964f9a41cc": {
          "model_module": "@jupyter-widgets/controls",
          "model_name": "DescriptionStyleModel",
          "model_module_version": "1.5.0",
          "state": {
            "_model_module": "@jupyter-widgets/controls",
            "_model_module_version": "1.5.0",
            "_model_name": "DescriptionStyleModel",
            "_view_count": null,
            "_view_module": "@jupyter-widgets/base",
            "_view_module_version": "1.2.0",
            "_view_name": "StyleView",
            "description_width": ""
          }
        },
        "604d111ff3c64717b51e35e6226a63ae": {
          "model_module": "@jupyter-widgets/base",
          "model_name": "LayoutModel",
          "model_module_version": "1.2.0",
          "state": {
            "_model_module": "@jupyter-widgets/base",
            "_model_module_version": "1.2.0",
            "_model_name": "LayoutModel",
            "_view_count": null,
            "_view_module": "@jupyter-widgets/base",
            "_view_module_version": "1.2.0",
            "_view_name": "LayoutView",
            "align_content": null,
            "align_items": null,
            "align_self": null,
            "border": null,
            "bottom": null,
            "display": null,
            "flex": null,
            "flex_flow": null,
            "grid_area": null,
            "grid_auto_columns": null,
            "grid_auto_flow": null,
            "grid_auto_rows": null,
            "grid_column": null,
            "grid_gap": null,
            "grid_row": null,
            "grid_template_areas": null,
            "grid_template_columns": null,
            "grid_template_rows": null,
            "height": null,
            "justify_content": null,
            "justify_items": null,
            "left": null,
            "margin": null,
            "max_height": null,
            "max_width": null,
            "min_height": null,
            "min_width": null,
            "object_fit": null,
            "object_position": null,
            "order": null,
            "overflow": null,
            "overflow_x": null,
            "overflow_y": null,
            "padding": null,
            "right": null,
            "top": null,
            "visibility": null,
            "width": null
          }
        },
        "92578eaddd74491691c2c10fd794fa69": {
          "model_module": "@jupyter-widgets/controls",
          "model_name": "ProgressStyleModel",
          "model_module_version": "1.5.0",
          "state": {
            "_model_module": "@jupyter-widgets/controls",
            "_model_module_version": "1.5.0",
            "_model_name": "ProgressStyleModel",
            "_view_count": null,
            "_view_module": "@jupyter-widgets/base",
            "_view_module_version": "1.2.0",
            "_view_name": "StyleView",
            "bar_color": null,
            "description_width": ""
          }
        },
        "99c1e7df90d24525a3ef5afa8c75c37b": {
          "model_module": "@jupyter-widgets/base",
          "model_name": "LayoutModel",
          "model_module_version": "1.2.0",
          "state": {
            "_model_module": "@jupyter-widgets/base",
            "_model_module_version": "1.2.0",
            "_model_name": "LayoutModel",
            "_view_count": null,
            "_view_module": "@jupyter-widgets/base",
            "_view_module_version": "1.2.0",
            "_view_name": "LayoutView",
            "align_content": null,
            "align_items": null,
            "align_self": null,
            "border": null,
            "bottom": null,
            "display": null,
            "flex": null,
            "flex_flow": null,
            "grid_area": null,
            "grid_auto_columns": null,
            "grid_auto_flow": null,
            "grid_auto_rows": null,
            "grid_column": null,
            "grid_gap": null,
            "grid_row": null,
            "grid_template_areas": null,
            "grid_template_columns": null,
            "grid_template_rows": null,
            "height": null,
            "justify_content": null,
            "justify_items": null,
            "left": null,
            "margin": null,
            "max_height": null,
            "max_width": null,
            "min_height": null,
            "min_width": null,
            "object_fit": null,
            "object_position": null,
            "order": null,
            "overflow": null,
            "overflow_x": null,
            "overflow_y": null,
            "padding": null,
            "right": null,
            "top": null,
            "visibility": null,
            "width": null
          }
        },
        "f25a8fa376d947609a5508dcf986bb74": {
          "model_module": "@jupyter-widgets/controls",
          "model_name": "DescriptionStyleModel",
          "model_module_version": "1.5.0",
          "state": {
            "_model_module": "@jupyter-widgets/controls",
            "_model_module_version": "1.5.0",
            "_model_name": "DescriptionStyleModel",
            "_view_count": null,
            "_view_module": "@jupyter-widgets/base",
            "_view_module_version": "1.2.0",
            "_view_name": "StyleView",
            "description_width": ""
          }
        },
        "df2e71adaced446982bd02cb4735db28": {
          "model_module": "@jupyter-widgets/controls",
          "model_name": "HBoxModel",
          "model_module_version": "1.5.0",
          "state": {
            "_dom_classes": [],
            "_model_module": "@jupyter-widgets/controls",
            "_model_module_version": "1.5.0",
            "_model_name": "HBoxModel",
            "_view_count": null,
            "_view_module": "@jupyter-widgets/controls",
            "_view_module_version": "1.5.0",
            "_view_name": "HBoxView",
            "box_style": "",
            "children": [
              "IPY_MODEL_e592836277fa41b0bb8f69c57ec78501",
              "IPY_MODEL_e3ae605349ee41c0bee30c95a98a5f63",
              "IPY_MODEL_3f39996e7e0845e3ba8ddde46bb9c804"
            ],
            "layout": "IPY_MODEL_f7328ee7d5fa45039ad615a1438f4a47"
          }
        },
        "e592836277fa41b0bb8f69c57ec78501": {
          "model_module": "@jupyter-widgets/controls",
          "model_name": "HTMLModel",
          "model_module_version": "1.5.0",
          "state": {
            "_dom_classes": [],
            "_model_module": "@jupyter-widgets/controls",
            "_model_module_version": "1.5.0",
            "_model_name": "HTMLModel",
            "_view_count": null,
            "_view_module": "@jupyter-widgets/controls",
            "_view_module_version": "1.5.0",
            "_view_name": "HTMLView",
            "description": "",
            "description_tooltip": null,
            "layout": "IPY_MODEL_2479cbb67c0d4e7f892691e1e3c11df9",
            "placeholder": "​",
            "style": "IPY_MODEL_ba1e2e813a48464aabb0ec794cd37d18",
            "value": "Rating: 100%"
          }
        },
        "e3ae605349ee41c0bee30c95a98a5f63": {
          "model_module": "@jupyter-widgets/controls",
          "model_name": "FloatProgressModel",
          "model_module_version": "1.5.0",
          "state": {
            "_dom_classes": [],
            "_model_module": "@jupyter-widgets/controls",
            "_model_module_version": "1.5.0",
            "_model_name": "FloatProgressModel",
            "_view_count": null,
            "_view_module": "@jupyter-widgets/controls",
            "_view_module_version": "1.5.0",
            "_view_name": "ProgressView",
            "bar_style": "success",
            "description": "",
            "description_tooltip": null,
            "layout": "IPY_MODEL_dad9b1eafa5d4daba218f00370d27957",
            "max": 31598,
            "min": 0,
            "orientation": "horizontal",
            "style": "IPY_MODEL_1940421253c8474d83733755e3601e8e",
            "value": 31598
          }
        },
        "3f39996e7e0845e3ba8ddde46bb9c804": {
          "model_module": "@jupyter-widgets/controls",
          "model_name": "HTMLModel",
          "model_module_version": "1.5.0",
          "state": {
            "_dom_classes": [],
            "_model_module": "@jupyter-widgets/controls",
            "_model_module_version": "1.5.0",
            "_model_name": "HTMLModel",
            "_view_count": null,
            "_view_module": "@jupyter-widgets/controls",
            "_view_module_version": "1.5.0",
            "_view_name": "HTMLView",
            "description": "",
            "description_tooltip": null,
            "layout": "IPY_MODEL_bc9d395bfc254f58b9d7cec2ea53aeb1",
            "placeholder": "​",
            "style": "IPY_MODEL_b462d236077c4d429520ede46896a276",
            "value": " 31598/31598 [00:01&lt;00:00, 20506.35it/s]"
          }
        },
        "f7328ee7d5fa45039ad615a1438f4a47": {
          "model_module": "@jupyter-widgets/base",
          "model_name": "LayoutModel",
          "model_module_version": "1.2.0",
          "state": {
            "_model_module": "@jupyter-widgets/base",
            "_model_module_version": "1.2.0",
            "_model_name": "LayoutModel",
            "_view_count": null,
            "_view_module": "@jupyter-widgets/base",
            "_view_module_version": "1.2.0",
            "_view_name": "LayoutView",
            "align_content": null,
            "align_items": null,
            "align_self": null,
            "border": null,
            "bottom": null,
            "display": null,
            "flex": null,
            "flex_flow": null,
            "grid_area": null,
            "grid_auto_columns": null,
            "grid_auto_flow": null,
            "grid_auto_rows": null,
            "grid_column": null,
            "grid_gap": null,
            "grid_row": null,
            "grid_template_areas": null,
            "grid_template_columns": null,
            "grid_template_rows": null,
            "height": null,
            "justify_content": null,
            "justify_items": null,
            "left": null,
            "margin": null,
            "max_height": null,
            "max_width": null,
            "min_height": null,
            "min_width": null,
            "object_fit": null,
            "object_position": null,
            "order": null,
            "overflow": null,
            "overflow_x": null,
            "overflow_y": null,
            "padding": null,
            "right": null,
            "top": null,
            "visibility": null,
            "width": null
          }
        },
        "2479cbb67c0d4e7f892691e1e3c11df9": {
          "model_module": "@jupyter-widgets/base",
          "model_name": "LayoutModel",
          "model_module_version": "1.2.0",
          "state": {
            "_model_module": "@jupyter-widgets/base",
            "_model_module_version": "1.2.0",
            "_model_name": "LayoutModel",
            "_view_count": null,
            "_view_module": "@jupyter-widgets/base",
            "_view_module_version": "1.2.0",
            "_view_name": "LayoutView",
            "align_content": null,
            "align_items": null,
            "align_self": null,
            "border": null,
            "bottom": null,
            "display": null,
            "flex": null,
            "flex_flow": null,
            "grid_area": null,
            "grid_auto_columns": null,
            "grid_auto_flow": null,
            "grid_auto_rows": null,
            "grid_column": null,
            "grid_gap": null,
            "grid_row": null,
            "grid_template_areas": null,
            "grid_template_columns": null,
            "grid_template_rows": null,
            "height": null,
            "justify_content": null,
            "justify_items": null,
            "left": null,
            "margin": null,
            "max_height": null,
            "max_width": null,
            "min_height": null,
            "min_width": null,
            "object_fit": null,
            "object_position": null,
            "order": null,
            "overflow": null,
            "overflow_x": null,
            "overflow_y": null,
            "padding": null,
            "right": null,
            "top": null,
            "visibility": null,
            "width": null
          }
        },
        "ba1e2e813a48464aabb0ec794cd37d18": {
          "model_module": "@jupyter-widgets/controls",
          "model_name": "DescriptionStyleModel",
          "model_module_version": "1.5.0",
          "state": {
            "_model_module": "@jupyter-widgets/controls",
            "_model_module_version": "1.5.0",
            "_model_name": "DescriptionStyleModel",
            "_view_count": null,
            "_view_module": "@jupyter-widgets/base",
            "_view_module_version": "1.2.0",
            "_view_name": "StyleView",
            "description_width": ""
          }
        },
        "dad9b1eafa5d4daba218f00370d27957": {
          "model_module": "@jupyter-widgets/base",
          "model_name": "LayoutModel",
          "model_module_version": "1.2.0",
          "state": {
            "_model_module": "@jupyter-widgets/base",
            "_model_module_version": "1.2.0",
            "_model_name": "LayoutModel",
            "_view_count": null,
            "_view_module": "@jupyter-widgets/base",
            "_view_module_version": "1.2.0",
            "_view_name": "LayoutView",
            "align_content": null,
            "align_items": null,
            "align_self": null,
            "border": null,
            "bottom": null,
            "display": null,
            "flex": null,
            "flex_flow": null,
            "grid_area": null,
            "grid_auto_columns": null,
            "grid_auto_flow": null,
            "grid_auto_rows": null,
            "grid_column": null,
            "grid_gap": null,
            "grid_row": null,
            "grid_template_areas": null,
            "grid_template_columns": null,
            "grid_template_rows": null,
            "height": null,
            "justify_content": null,
            "justify_items": null,
            "left": null,
            "margin": null,
            "max_height": null,
            "max_width": null,
            "min_height": null,
            "min_width": null,
            "object_fit": null,
            "object_position": null,
            "order": null,
            "overflow": null,
            "overflow_x": null,
            "overflow_y": null,
            "padding": null,
            "right": null,
            "top": null,
            "visibility": null,
            "width": null
          }
        },
        "1940421253c8474d83733755e3601e8e": {
          "model_module": "@jupyter-widgets/controls",
          "model_name": "ProgressStyleModel",
          "model_module_version": "1.5.0",
          "state": {
            "_model_module": "@jupyter-widgets/controls",
            "_model_module_version": "1.5.0",
            "_model_name": "ProgressStyleModel",
            "_view_count": null,
            "_view_module": "@jupyter-widgets/base",
            "_view_module_version": "1.2.0",
            "_view_name": "StyleView",
            "bar_color": null,
            "description_width": ""
          }
        },
        "bc9d395bfc254f58b9d7cec2ea53aeb1": {
          "model_module": "@jupyter-widgets/base",
          "model_name": "LayoutModel",
          "model_module_version": "1.2.0",
          "state": {
            "_model_module": "@jupyter-widgets/base",
            "_model_module_version": "1.2.0",
            "_model_name": "LayoutModel",
            "_view_count": null,
            "_view_module": "@jupyter-widgets/base",
            "_view_module_version": "1.2.0",
            "_view_name": "LayoutView",
            "align_content": null,
            "align_items": null,
            "align_self": null,
            "border": null,
            "bottom": null,
            "display": null,
            "flex": null,
            "flex_flow": null,
            "grid_area": null,
            "grid_auto_columns": null,
            "grid_auto_flow": null,
            "grid_auto_rows": null,
            "grid_column": null,
            "grid_gap": null,
            "grid_row": null,
            "grid_template_areas": null,
            "grid_template_columns": null,
            "grid_template_rows": null,
            "height": null,
            "justify_content": null,
            "justify_items": null,
            "left": null,
            "margin": null,
            "max_height": null,
            "max_width": null,
            "min_height": null,
            "min_width": null,
            "object_fit": null,
            "object_position": null,
            "order": null,
            "overflow": null,
            "overflow_x": null,
            "overflow_y": null,
            "padding": null,
            "right": null,
            "top": null,
            "visibility": null,
            "width": null
          }
        },
        "b462d236077c4d429520ede46896a276": {
          "model_module": "@jupyter-widgets/controls",
          "model_name": "DescriptionStyleModel",
          "model_module_version": "1.5.0",
          "state": {
            "_model_module": "@jupyter-widgets/controls",
            "_model_module_version": "1.5.0",
            "_model_name": "DescriptionStyleModel",
            "_view_count": null,
            "_view_module": "@jupyter-widgets/base",
            "_view_module_version": "1.2.0",
            "_view_name": "StyleView",
            "description_width": ""
          }
        }
      }
    }
  },
  "cells": [
    {
      "cell_type": "markdown",
      "source": [
        "#Chargez les données dans des fichiers excel pour les visualiser"
      ],
      "metadata": {
        "id": "IjcACid5tKfX"
      }
    },
    {
      "cell_type": "code",
      "source": [
        "import numpy as np\n",
        "import pandas as pd\n",
        "\n",
        "# Fonction pour charger et afficher le contenu d'un fichier npy\n",
        "def load_and_display_npy(file_path):\n",
        "    data = np.load(file_path, allow_pickle=True)\n",
        "    print(f\"Content of {file_path}:\")\n",
        "    print(data)\n",
        "    print(\"\\n\")\n",
        "\n",
        "# Liste des fichiers npy\n",
        "npy_files = [\"ratings_train.npy\", \"ratings_test.npy\", \"namesngenre.npy\", \"list_index_wanted.npy\"]\n",
        "\n",
        "# Charger et afficher chaque fichier npy\n",
        "for npy_file in npy_files:\n",
        "    load_and_display_npy(npy_file)\n",
        "\n",
        "# Fonction pour charger un fichier npy et l'enregistrer en tant que fichier Excel\n",
        "def npy_to_excel(npy_file):\n",
        "    # Charger le fichier npy\n",
        "    data = np.load(npy_file, allow_pickle=True)\n",
        "\n",
        "    # Convertir les données en DataFrame\n",
        "    df = pd.DataFrame(data)\n",
        "\n",
        "    # Enregistrer le DataFrame dans un fichier Excel avec le même nom\n",
        "    excel_file = npy_file.replace('.npy', '.xlsx')\n",
        "    df.to_excel(excel_file, index=False)\n",
        "    print(f\"Saved {npy_file} to {excel_file}\")\n",
        "\n",
        "# Convertir chaque fichier npy en fichier Excel\n",
        "for npy_file in npy_files:\n",
        "    npy_to_excel(npy_file)"
      ],
      "metadata": {
        "id": "DxS0HHaCs_H8"
      },
      "execution_count": null,
      "outputs": []
    },
    {
      "cell_type": "markdown",
      "source": [
        "#I. Méthode MF (Matrix Factorization) de Cornac"
      ],
      "metadata": {
        "id": "FhToasHkL4KK"
      }
    },
    {
      "cell_type": "markdown",
      "source": [
        "##Étape 1: Installation de Cornac"
      ],
      "metadata": {
        "id": "VJ-JH2i-Qn19"
      }
    },
    {
      "cell_type": "code",
      "source": [
        "!pip install -U cornac\n"
      ],
      "metadata": {
        "colab": {
          "base_uri": "https://localhost:8080/"
        },
        "id": "6TaLRr78LZWD",
        "outputId": "0b1e2c0b-61c4-4549-b2ec-268b55c5719e"
      },
      "execution_count": 2,
      "outputs": [
        {
          "output_type": "stream",
          "name": "stdout",
          "text": [
            "Collecting cornac\n",
            "  Downloading cornac-2.2.2-cp310-cp310-manylinux1_x86_64.whl.metadata (36 kB)\n",
            "Requirement already satisfied: numpy<2.0.0 in /usr/local/lib/python3.10/dist-packages (from cornac) (1.26.4)\n",
            "Requirement already satisfied: scipy<=1.13.1 in /usr/local/lib/python3.10/dist-packages (from cornac) (1.13.1)\n",
            "Requirement already satisfied: tqdm in /usr/local/lib/python3.10/dist-packages (from cornac) (4.66.6)\n",
            "Collecting powerlaw (from cornac)\n",
            "  Downloading powerlaw-1.5-py3-none-any.whl.metadata (9.3 kB)\n",
            "Requirement already satisfied: matplotlib in /usr/local/lib/python3.10/dist-packages (from powerlaw->cornac) (3.8.0)\n",
            "Requirement already satisfied: mpmath in /usr/local/lib/python3.10/dist-packages (from powerlaw->cornac) (1.3.0)\n",
            "Requirement already satisfied: contourpy>=1.0.1 in /usr/local/lib/python3.10/dist-packages (from matplotlib->powerlaw->cornac) (1.3.1)\n",
            "Requirement already satisfied: cycler>=0.10 in /usr/local/lib/python3.10/dist-packages (from matplotlib->powerlaw->cornac) (0.12.1)\n",
            "Requirement already satisfied: fonttools>=4.22.0 in /usr/local/lib/python3.10/dist-packages (from matplotlib->powerlaw->cornac) (4.54.1)\n",
            "Requirement already satisfied: kiwisolver>=1.0.1 in /usr/local/lib/python3.10/dist-packages (from matplotlib->powerlaw->cornac) (1.4.7)\n",
            "Requirement already satisfied: packaging>=20.0 in /usr/local/lib/python3.10/dist-packages (from matplotlib->powerlaw->cornac) (24.2)\n",
            "Requirement already satisfied: pillow>=6.2.0 in /usr/local/lib/python3.10/dist-packages (from matplotlib->powerlaw->cornac) (11.0.0)\n",
            "Requirement already satisfied: pyparsing>=2.3.1 in /usr/local/lib/python3.10/dist-packages (from matplotlib->powerlaw->cornac) (3.2.0)\n",
            "Requirement already satisfied: python-dateutil>=2.7 in /usr/local/lib/python3.10/dist-packages (from matplotlib->powerlaw->cornac) (2.8.2)\n",
            "Requirement already satisfied: six>=1.5 in /usr/local/lib/python3.10/dist-packages (from python-dateutil>=2.7->matplotlib->powerlaw->cornac) (1.16.0)\n",
            "Downloading cornac-2.2.2-cp310-cp310-manylinux1_x86_64.whl (21.3 MB)\n",
            "\u001b[2K   \u001b[90m━━━━━━━━━━━━━━━━━━━━━━━━━━━━━━━━━━━━━━━━\u001b[0m \u001b[32m21.3/21.3 MB\u001b[0m \u001b[31m24.8 MB/s\u001b[0m eta \u001b[36m0:00:00\u001b[0m\n",
            "\u001b[?25hDownloading powerlaw-1.5-py3-none-any.whl (24 kB)\n",
            "Installing collected packages: powerlaw, cornac\n",
            "Successfully installed cornac-2.2.2 powerlaw-1.5\n"
          ]
        }
      ]
    },
    {
      "cell_type": "markdown",
      "source": [
        "##Étape 2: Préparation des Données"
      ],
      "metadata": {
        "id": "pIY08iN8RopA"
      }
    },
    {
      "cell_type": "markdown",
      "source": [
        "###Étape 2.1: Préparation des Données pour Intégrer les Genres\n"
      ],
      "metadata": {
        "id": "0mYUrdlFRutP"
      }
    },
    {
      "cell_type": "code",
      "source": [
        "from sklearn.preprocessing import MultiLabelBinarizer\n",
        "import pandas as pd\n",
        "\n",
        "# Charger les genres des films\n",
        "namesngenre = pd.read_excel('namesngenre.xlsx', header=None)\n",
        "namesngenre.columns = ['film', 'genres']\n",
        "namesngenre['genres'] = namesngenre['genres'].astype(str).apply(lambda x: x.split('|'))\n",
        "\n",
        "# Encoder les genres avec MultiLabelBinarizer\n",
        "mlb = MultiLabelBinarizer()\n",
        "genres_encoded = mlb.fit_transform(namesngenre['genres'])\n"
      ],
      "metadata": {
        "id": "bLDB_fWBPC-0"
      },
      "execution_count": 4,
      "outputs": []
    },
    {
      "cell_type": "markdown",
      "source": [
        "###Étape 2.2: Préparation des Données pour définir les triplets (user, film, rating)"
      ],
      "metadata": {
        "id": "a_4ipXN6R-HA"
      }
    },
    {
      "cell_type": "code",
      "source": [
        "from cornac.data import Dataset, GraphModality\n",
        "\n",
        "# Charger les données\n",
        "ratings_train = pd.read_excel('ratings_train.xlsx', header=None).values\n",
        "\n",
        "# Transformer les genres en triplets\n",
        "genre_triplets = []\n",
        "for item_id, genres in enumerate(genres_encoded):\n",
        "    for genre_id, is_present in enumerate(genres):\n",
        "        if is_present:\n",
        "            genre_triplets.append((item_id, genre_id, 1))  # 1 indique que le genre est présent pour cet item\n",
        "\n",
        "# Créer un objet GraphModality pour les attributs des items (genres des films)\n",
        "item_graph = GraphModality(data=genre_triplets, form='binary')"
      ],
      "metadata": {
        "id": "LrBNW9cJPMIN"
      },
      "execution_count": 5,
      "outputs": []
    },
    {
      "cell_type": "code",
      "source": [
        "import numpy as np\n",
        "import math\n",
        "\n",
        "# Charger les données d'entraînement et de test\n",
        "train_data = pd.read_excel('ratings_train.xlsx', header=None)\n",
        "test_data = pd.read_excel('ratings_test.xlsx')\n",
        "\n",
        "# Préparer les triplets d'entraînement (user, item, rating) en tenant compte des NaN\n",
        "train_triplets = []\n",
        "num_users_train, num_items_train = train_data.shape\n",
        "for user in range(num_users_train):\n",
        "    for item in range(num_items_train):\n",
        "        rating = train_data.iloc[user, item]\n",
        "        if not math.isnan(rating):\n",
        "            train_triplets.append((user, item, rating))\n",
        "\n",
        "# Préparer les triplets de test (user, item, rating) en tenant compte des NaN\n",
        "test_triplets = []\n",
        "num_users_test, num_items_test = test_data.shape\n",
        "for user in range(num_users_test):\n",
        "    for item in range(num_items_test):\n",
        "        rating = test_data.iloc[user, item]\n",
        "        if not math.isnan(rating):\n",
        "            test_triplets.append((user, item, rating))"
      ],
      "metadata": {
        "id": "mMXFrZ8zMfYu"
      },
      "execution_count": 6,
      "outputs": []
    },
    {
      "cell_type": "markdown",
      "source": [
        "##Étape 3: Utiliser Cornac pour utiliser MF (Matrix Factorization) à l'entrainement"
      ],
      "metadata": {
        "id": "R9VSQjNLSUgO"
      }
    },
    {
      "cell_type": "code",
      "execution_count": 7,
      "metadata": {
        "colab": {
          "base_uri": "https://localhost:8080/",
          "height": 665,
          "referenced_widgets": [
            "f962d2f7d40348bab0be4e77e06df8cd",
            "aeb18c37359b4f288b032ee7feefcbb6",
            "828abfbb273a4fe1bec13293c1e4e12d",
            "3a8d2c0a33a64d36bcec836fc1d01144",
            "c184bcbd190c4505b5f5f72487c90534",
            "0416e4394b114fae984121ef38cc40a4",
            "93c464ec195246feb8b3a4964f9a41cc",
            "604d111ff3c64717b51e35e6226a63ae",
            "92578eaddd74491691c2c10fd794fa69",
            "99c1e7df90d24525a3ef5afa8c75c37b",
            "f25a8fa376d947609a5508dcf986bb74",
            "df2e71adaced446982bd02cb4735db28",
            "e592836277fa41b0bb8f69c57ec78501",
            "e3ae605349ee41c0bee30c95a98a5f63",
            "3f39996e7e0845e3ba8ddde46bb9c804",
            "f7328ee7d5fa45039ad615a1438f4a47",
            "2479cbb67c0d4e7f892691e1e3c11df9",
            "ba1e2e813a48464aabb0ec794cd37d18",
            "dad9b1eafa5d4daba218f00370d27957",
            "1940421253c8474d83733755e3601e8e",
            "bc9d395bfc254f58b9d7cec2ea53aeb1",
            "b462d236077c4d429520ede46896a276"
          ]
        },
        "id": "8PqFzCe9KdK9",
        "outputId": "15459198-00bb-4a59-d4f8-af12bfcaaa4e"
      },
      "outputs": [
        {
          "output_type": "stream",
          "name": "stdout",
          "text": [
            "rating_threshold = 1.0\n",
            "exclude_unknowns = True\n",
            "---\n",
            "Training data:\n",
            "Number of users = 610\n",
            "Number of items = 4980\n",
            "Number of ratings = 31598\n",
            "Max rating = 5.0\n",
            "Min rating = 0.5\n",
            "Global mean = 3.5\n",
            "---\n",
            "Test data:\n",
            "Number of users = 610\n",
            "Number of items = 4980\n",
            "Number of ratings = 31598\n",
            "Number of unknown users = 0\n",
            "Number of unknown items = 0\n",
            "---\n",
            "Total users = 610\n",
            "Total items = 4980\n",
            "\n",
            "[MF] Training started!\n"
          ]
        },
        {
          "output_type": "display_data",
          "data": {
            "text/plain": [
              "  0%|          | 0/100 [00:00<?, ?it/s]"
            ],
            "application/vnd.jupyter.widget-view+json": {
              "version_major": 2,
              "version_minor": 0,
              "model_id": "f962d2f7d40348bab0be4e77e06df8cd"
            }
          },
          "metadata": {}
        },
        {
          "output_type": "stream",
          "name": "stdout",
          "text": [
            "Optimization finished!\n",
            "\n",
            "[MF] Evaluation started!\n"
          ]
        },
        {
          "output_type": "display_data",
          "data": {
            "text/plain": [
              "Rating:   0%|          | 0/31598 [00:00<?, ?it/s]"
            ],
            "application/vnd.jupyter.widget-view+json": {
              "version_major": 2,
              "version_minor": 0,
              "model_id": "df2e71adaced446982bd02cb4735db28"
            }
          },
          "metadata": {}
        },
        {
          "output_type": "stream",
          "name": "stdout",
          "text": [
            "\n",
            "TEST:\n",
            "...\n",
            "   |    MAE |   RMSE | Train (s) | Test (s)\n",
            "-- + ------ + ------ + --------- + --------\n",
            "MF | 0.7674 | 0.9596 |    1.3680 |   1.9222\n",
            "\n"
          ]
        }
      ],
      "source": [
        "from cornac.eval_methods import BaseMethod\n",
        "\n",
        "# Charger les données d'entraînement et de test avec Cornac Reader\n",
        "train_data_cornac = Dataset.from_uir(train_triplets)\n",
        "test_data_cornac = Dataset.from_uir(test_triplets)\n",
        "\n",
        "# Définir une méthode d'évaluation personnalisée avec les ensembles de train et de test et les attributs item_graph\n",
        "eval_method = BaseMethod.from_splits(\n",
        "    train_data=train_triplets,\n",
        "    test_data=test_triplets,\n",
        "    rating_threshold=1.0,\n",
        "    exclude_unknowns=True,\n",
        "    verbose=True,\n",
        "    item_graph=item_graph  # Ajout des attributs contextuels pour enrichir le modèle\n",
        ")\n",
        "\n",
        "from cornac.models import MF\n",
        "from cornac.metrics import RMSE, MAE\n",
        "import cornac\n",
        "\n",
        "# Définir le modèle MF\n",
        "mf_model = MF(k=10, max_iter=100, learning_rate=0.01, lambda_reg=0.02, verbose=True)\n",
        "\n",
        "# Entraîner le modèle et évaluer ses performances sur l'ensemble de test en utilisant item_graph\n",
        "cornac.Experiment(\n",
        "    eval_method=eval_method,\n",
        "    models=[mf_model],\n",
        "    metrics=[RMSE(), MAE()]\n",
        ").run()"
      ]
    },
    {
      "cell_type": "markdown",
      "source": [
        "##Étape 4: Prédire les Notes"
      ],
      "metadata": {
        "id": "EWC-bVeqSnGZ"
      }
    },
    {
      "cell_type": "code",
      "source": [
        "from scipy.sparse import lil_matrix\n",
        "\n",
        "# Charger le fichier list_index_wanted pour obtenir les indices des utilisateurs et des films\n",
        "list_index_wanted = pd.read_excel('list_index_wanted.xlsx', header=None)\n",
        "list_index_wanted.columns = ['user', 'item']\n",
        "\n",
        "# Préparer les indices des utilisateurs et items pour lesquels il faut prédire\n",
        "indices_to_predict = list_index_wanted.values\n",
        "\n",
        "# Créer une matrice creuse pour stocker les valeurs prédites\n",
        "num_users = train_data_cornac.num_users\n",
        "num_items = train_data_cornac.num_items\n",
        "# Utilisation de lil_matrix (List of Lists), qui est un format efficace pour modifier la matrice (ajouter des valeurs prédictives)\n",
        "sparse_matrix = lil_matrix((num_users, num_items))\n",
        "\n",
        "# Effectuer des prédictions pour chaque couple (utilisateur, item) donné\n",
        "for user, item in indices_to_predict:\n",
        "    # Vérifier si l'utilisateur et l'item existent dans les données d'entraînement\n",
        "    if user < num_users and item < num_items:\n",
        "        # Prédire la note pour le couple (utilisateur, item)\n",
        "        predicted_rating = mf_model.score(user, item)\n",
        "        # Ajouter la prédiction dans la matrice creuse\n",
        "        sparse_matrix[user, item] = predicted_rating\n",
        "\n",
        "# Convertir la matrice creuse au format dense\n",
        "dense_matrix = sparse_matrix.toarray()\n",
        "\n",
        "# Sauvegarder la matrice dense au format .npy\n",
        "np.save('MF_predicted_ratings_matrix.npy', dense_matrix)\n",
        "\n",
        "print(\"Prédictions terminées et matrice sauvegardée au format .npy avec succès.\")"
      ],
      "metadata": {
        "colab": {
          "base_uri": "https://localhost:8080/"
        },
        "id": "376R8BUWQcPB",
        "outputId": "76a34e2a-f019-4f6a-ca18-1579e5ccacc9"
      },
      "execution_count": 11,
      "outputs": [
        {
          "output_type": "stream",
          "name": "stdout",
          "text": [
            "Prédictions terminées et matrice sauvegardée au format .npy avec succès.\n"
          ]
        }
      ]
    },
    {
      "cell_type": "markdown",
      "source": [
        "#II. Méthode ALS"
      ],
      "metadata": {
        "id": "hKSCJ45qao_y"
      }
    },
    {
      "cell_type": "markdown",
      "source": [
        "###Définir les les fonctions constituant le modéle"
      ],
      "metadata": {
        "id": "oINipf5bZ5zj"
      }
    },
    {
      "cell_type": "code",
      "source": [
        "import numpy as np\n",
        "import pandas as pd\n",
        "import matplotlib.pyplot as plt\n",
        "\n",
        "# Charger les données\n",
        "ratings_train = np.load('ratings_train.npy')\n",
        "ratings_test = np.load('ratings_test.npy')\n",
        "\n",
        "# Paramètres du modèle ALS\n",
        "lambda_reg = 5\n",
        "num_latent = 30\n",
        "num_iterations = 100\n",
        "\n",
        "# Listes pour suivre les métriques au cours des itérations\n",
        "train_rmse_set = []\n",
        "test_rmse_set = []\n",
        "train_mae_set = []\n",
        "test_mae_set = []\n",
        "\n",
        "# Fonction pour évaluer les erreurs RMSE et MAE\n",
        "def RMSE_MAE(R, predictions):\n",
        "    mask = ~np.isnan(R)\n",
        "    rmse = np.sqrt(np.mean((R[mask] - predictions[mask])**2))\n",
        "    mae = np.mean(np.abs(R[mask] - predictions[mask]))\n",
        "    return rmse, mae\n",
        "\n",
        "# Mettre à jour la matrice U (fixer V et résoudre U)\n",
        "def update_U(U, V, ratings_train, lambda_reg):\n",
        "    num_users = ratings_train.shape[0]\n",
        "    num_latent = U.shape[1]\n",
        "    for user_index in range(num_users):\n",
        "        # Filtrer les items évalués par l'utilisateur actuel\n",
        "        indices_items_notes = ~np.isnan(ratings_train[user_index, :])\n",
        "        V_evaluated = V[indices_items_notes, :]\n",
        "        ratings_evaluated_by_user = ratings_train[user_index, indices_items_notes]\n",
        "\n",
        "        if ratings_evaluated_by_user.size > 0:\n",
        "            A = np.dot(V_evaluated.T, V_evaluated) + lambda_reg * np.eye(num_latent)\n",
        "            b = np.dot(V_evaluated.T, ratings_evaluated_by_user)\n",
        "            U[user_index, :] = np.linalg.solve(A, b)\n",
        "    return U\n",
        "\n",
        "# Mettre à jour la matrice V (fixer U et résoudre V)\n",
        "def update_V(U, V, ratings_train, lambda_reg):\n",
        "    num_items = ratings_train.shape[1]\n",
        "    num_latent = V.shape[1]\n",
        "    for item_index in range(num_items):\n",
        "        # Filtrer les utilisateurs ayant évalué l'item actuel\n",
        "        indices_users_notes = ~np.isnan(ratings_train[:, item_index])\n",
        "        U_evaluated = U[indices_users_notes, :]\n",
        "        ratings_for_item = ratings_train[indices_users_notes, item_index]\n",
        "\n",
        "        if ratings_for_item.size > 0:\n",
        "            C = np.dot(U_evaluated.T, U_evaluated) + lambda_reg * np.eye(num_latent)\n",
        "            d = np.dot(U_evaluated.T, ratings_for_item)\n",
        "            V[item_index, :] = np.linalg.solve(C, d)\n",
        "    return V\n",
        "\n",
        "# Entraîner le modèle ALS\n",
        "def train_ALS(ratings_train, ratings_test, num_latent, lambda_reg, num_iterations):\n",
        "    num_users, num_items = ratings_train.shape\n",
        "\n",
        "    U = np.random.rand(num_users, num_latent)\n",
        "    V = np.random.rand(num_items, num_latent)\n",
        "\n",
        "    # Boucle d'entraînement ALS\n",
        "    for iteration in range(num_iterations):\n",
        "        U = update_U(U, V, ratings_train, lambda_reg)\n",
        "        V = update_V(U, V, ratings_train, lambda_reg)\n",
        "\n",
        "        # Prédire les notes\n",
        "        predictions = np.dot(U, V.T)\n",
        "\n",
        "        # Calculer les métriques pour l'ensemble d'entraînement et de test\n",
        "        rmse_train, mae_train = RMSE_MAE(ratings_train, predictions)\n",
        "        rmse_test, mae_test = RMSE_MAE(ratings_test, predictions)\n",
        "\n",
        "        # Stocker les métriques pour les graphes\n",
        "        train_rmse_set.append(rmse_train)\n",
        "        test_rmse_set.append(rmse_test)\n",
        "        train_mae_set.append(mae_train)\n",
        "        test_mae_set.append(mae_test)\n",
        "\n",
        "    return U, V, train_rmse_set, test_rmse_set, train_mae_set, test_mae_set\n"
      ],
      "metadata": {
        "id": "FFg9TmR4YTbn"
      },
      "execution_count": 9,
      "outputs": []
    },
    {
      "cell_type": "markdown",
      "source": [
        "###Entrainer le modéle"
      ],
      "metadata": {
        "id": "Kpxr75XqSy5D"
      }
    },
    {
      "cell_type": "code",
      "source": [
        "# Entraîner le modèle ALS\n",
        "U, V, train_rmse_set, test_rmse_set, train_mae_set, test_mae_set = train_ALS(ratings_train, ratings_test, num_latent, lambda_reg, num_iterations)\n",
        "# Calculer les prédictions pour chaque utilisateur et item\n",
        "predictions = np.dot(U, V.T)\n",
        "\n",
        "# Limiter les valeurs prédites dans l'intervalle [0.5, 5]\n",
        "clipped_predictions = np.clip(predictions, a_min=0.5, a_max=5)\n",
        "\n",
        "# Calculer les métriques pour l'ensemble d'entraînement et de test\n",
        "train_rmse, train_mae = RMSE_MAE(ratings_train, clipped_predictions)\n",
        "test_rmse, test_mae = RMSE_MAE(ratings_test, clipped_predictions)\n",
        "\n",
        "# Afficher les errors finales\n",
        "print(f\"RMSE du Train: {train_rmse:.4f}\")\n",
        "print(f\"RMSE du Test: {test_rmse:.4f}\")\n",
        "print(f\"MAE du Train: {train_mae:.4f}\")\n",
        "print(f\"MAE du Test: {test_mae:.4f}\")"
      ],
      "metadata": {
        "colab": {
          "base_uri": "https://localhost:8080/"
        },
        "id": "TcdLBLKPRRFT",
        "outputId": "5ce4b7b5-b9f2-40d5-b8dc-4d0099cefd2f"
      },
      "execution_count": 10,
      "outputs": [
        {
          "output_type": "stream",
          "name": "stdout",
          "text": [
            "RMSE du Train: 0.5257\n",
            "RMSE du Test: 1.1649\n",
            "MAE du Train: 0.3760\n",
            "MAE du Test: 0.9008\n"
          ]
        }
      ]
    },
    {
      "cell_type": "markdown",
      "source": [
        "###Afficher les variations du RMSE & MAE au fil de l'entrainement (évolution)"
      ],
      "metadata": {
        "id": "xc7Svq9ASj7L"
      }
    },
    {
      "cell_type": "code",
      "source": [
        "# Tracer les courbes de RMSE et MAE pendant l'entraînement\n",
        "plt.figure(figsize=(10, 6))\n",
        "plt.plot(range(1, num_iterations + 1), train_rmse_set, label=\"RMSE Entraînement\", color='b', linestyle='-', marker='o')\n",
        "plt.plot(range(1, num_iterations + 1), test_rmse_set, label=\"RMSE Test\", color='r', linestyle='-', marker='x')\n",
        "plt.title(\"Évolution du RMSE pendant l'entraînement\")\n",
        "plt.xlabel(\"Époques\")\n",
        "plt.ylabel(\"RMSE\")\n",
        "plt.legend()\n",
        "plt.grid(True)\n",
        "plt.show()\n",
        "\n",
        "plt.figure(figsize=(10, 6))\n",
        "plt.plot(range(1, num_iterations + 1), train_mae_set, label=\"MAE Entraînement\", color='b', linestyle='-', marker='o')\n",
        "plt.plot(range(1, num_iterations + 1), test_mae_set, label=\"MAE Test\", color='r', linestyle='-', marker='x')\n",
        "plt.title(\"Évolution du MAE pendant l'entraînement\")\n",
        "plt.xlabel(\"Époques\")\n",
        "plt.ylabel(\"MAE\")\n",
        "plt.legend()\n",
        "plt.grid(True)\n",
        "plt.show()\n"
      ],
      "metadata": {
        "colab": {
          "base_uri": "https://localhost:8080/",
          "height": 1000
        },
        "id": "iNijDs9jRZj1",
        "outputId": "9455c2f5-2418-4f6b-f9fa-95164f577851"
      },
      "execution_count": 7,
      "outputs": [
        {
          "output_type": "display_data",
          "data": {
            "text/plain": [
              "<Figure size 1000x600 with 1 Axes>"
            ],
            "image/png": "[encoded data removed]"
          },
          "metadata": {}
        },
        {
          "output_type": "display_data",
          "data": {
            "text/plain": [
              "<Figure size 1000x600 with 1 Axes>"
            ],
            "image/png": "[encoded data removed]"
          },
          "metadata": {}
        }
      ]
    },
    {
      "cell_type": "code",
      "source": [
        "# Effectuer la recherche sur grille des hyperparamètres\n",
        "def grid_search_ALS(ratings_train, ratings_test, lambda_reg_list, num_latent_list, num_iterations_list):\n",
        "    results = []\n",
        "\n",
        "    # Boucles imbriquées pour toutes les combinaisons d'hyperparamètres\n",
        "    for lambda_reg in lambda_reg_list:\n",
        "        for num_latent in num_latent_list:\n",
        "            for num_iterations in num_iterations_list:\n",
        "                print(f\"Entraînement avec lambda_reg={lambda_reg}, num_latent={num_latent}, num_iterations={num_iterations}\")\n",
        "\n",
        "                # Entraîner le modèle ALS\n",
        "                U, V, train_rmse_set, test_rmse_set, train_mae_set, test_mae_set = train_ALS(\n",
        "                    ratings_train, ratings_test, num_latent, lambda_reg, num_iterations)\n",
        "\n",
        "                # Stocker les métriques finales\n",
        "                final_rmse_train = train_rmse_set[-1]\n",
        "                final_rmse_test = test_rmse_set[-1]\n",
        "                final_mae_train = train_mae_set[-1]\n",
        "                final_mae_test = test_mae_set[-1]\n",
        "\n",
        "                results.append({\n",
        "                    'lambda_reg': lambda_reg,\n",
        "                    'num_latent': num_latent,\n",
        "                    'num_iterations': num_iterations,\n",
        "                    'final_rmse_train': final_rmse_train,\n",
        "                    'final_rmse_test': final_rmse_test,\n",
        "                    'final_mae_train': final_mae_train,\n",
        "                    'final_mae_test': final_mae_test\n",
        "                })\n",
        "\n",
        "    # Convertir les résultats en DataFrame pour une visualisation facile\n",
        "    results_df = pd.DataFrame(results)\n",
        "    return results_df\n",
        "\n",
        "# Définir les hyperparamètres à tester\n",
        "lambda_reg_list = [1, 3, 7, 10]\n",
        "num_latent_list = [10, 15, 25, 30]\n",
        "num_iterations_list = [100, 200]\n",
        "\n",
        "# Effectuer la recherche sur grille des hyperparamètres\n",
        "results_df = grid_search_ALS(ratings_train, ratings_test, lambda_reg_list, num_latent_list, num_iterations_list)\n",
        "\n",
        "# Afficher les résultats dans un tableau\n",
        "print(results_df)\n",
        "\n",
        "# Identifier la meilleure combinaison d'hyperparamètres\n",
        "best_row = results_df.loc[results_df['final_rmse_test'].idxmin()]\n",
        "print(\"\\nMeilleure combinaison d'hyperparamètres basée sur le RMSE de test :\")\n",
        "print(best_row)"
      ],
      "metadata": {
        "colab": {
          "base_uri": "https://localhost:8080/",
          "height": 1000
        },
        "id": "Oc8kTZlhVjcv",
        "outputId": "bfd91a3b-5e61-4fb2-e3f8-f77d8034d465"
      },
      "execution_count": 11,
      "outputs": [
        {
          "output_type": "stream",
          "name": "stdout",
          "text": [
            "Entraînement avec lambda_reg=1, num_latent=10, num_iterations=100\n",
            "Entraînement avec lambda_reg=1, num_latent=10, num_iterations=200\n",
            "Entraînement avec lambda_reg=1, num_latent=15, num_iterations=100\n",
            "Entraînement avec lambda_reg=1, num_latent=15, num_iterations=200\n",
            "Entraînement avec lambda_reg=1, num_latent=25, num_iterations=100\n",
            "Entraînement avec lambda_reg=1, num_latent=25, num_iterations=200\n",
            "Entraînement avec lambda_reg=1, num_latent=30, num_iterations=100\n",
            "Entraînement avec lambda_reg=1, num_latent=30, num_iterations=200\n",
            "Entraînement avec lambda_reg=3, num_latent=10, num_iterations=100\n",
            "Entraînement avec lambda_reg=3, num_latent=10, num_iterations=200\n",
            "Entraînement avec lambda_reg=3, num_latent=15, num_iterations=100\n",
            "Entraînement avec lambda_reg=3, num_latent=15, num_iterations=200\n",
            "Entraînement avec lambda_reg=3, num_latent=25, num_iterations=100\n",
            "Entraînement avec lambda_reg=3, num_latent=25, num_iterations=200\n",
            "Entraînement avec lambda_reg=3, num_latent=30, num_iterations=100\n",
            "Entraînement avec lambda_reg=3, num_latent=30, num_iterations=200\n",
            "Entraînement avec lambda_reg=7, num_latent=10, num_iterations=100\n",
            "Entraînement avec lambda_reg=7, num_latent=10, num_iterations=200\n",
            "Entraînement avec lambda_reg=7, num_latent=15, num_iterations=100\n",
            "Entraînement avec lambda_reg=7, num_latent=15, num_iterations=200\n",
            "Entraînement avec lambda_reg=7, num_latent=25, num_iterations=100\n",
            "Entraînement avec lambda_reg=7, num_latent=25, num_iterations=200\n",
            "Entraînement avec lambda_reg=7, num_latent=30, num_iterations=100\n",
            "Entraînement avec lambda_reg=7, num_latent=30, num_iterations=200\n",
            "Entraînement avec lambda_reg=10, num_latent=10, num_iterations=100\n",
            "Entraînement avec lambda_reg=10, num_latent=10, num_iterations=200\n",
            "Entraînement avec lambda_reg=10, num_latent=15, num_iterations=100\n",
            "Entraînement avec lambda_reg=10, num_latent=15, num_iterations=200\n",
            "Entraînement avec lambda_reg=10, num_latent=25, num_iterations=100\n",
            "Entraînement avec lambda_reg=10, num_latent=25, num_iterations=200\n",
            "Entraînement avec lambda_reg=10, num_latent=30, num_iterations=100\n",
            "Entraînement avec lambda_reg=10, num_latent=30, num_iterations=200\n",
            "    lambda_reg  num_latent  num_iterations  final_rmse_train  final_rmse_test  \\\n",
            "0            1          10             100          0.299015         1.361200   \n",
            "1            1          10             200          0.297292         1.364300   \n",
            "2            1          15             100          0.185749         1.396846   \n",
            "3            1          15             200          0.182361         1.386925   \n",
            "4            1          25             100          0.126869         1.252282   \n",
            "5            1          25             200          0.125484         1.246072   \n",
            "6            1          30             100          0.121296         1.214491   \n",
            "7            1          30             200          0.120264         1.202622   \n",
            "8            3          10             100          0.462916         1.217666   \n",
            "9            3          10             200          0.462118         1.212879   \n",
            "10           3          15             100          0.389552         1.219301   \n",
            "11           3          15             200          0.388482         1.222626   \n",
            "12           3          25             100          0.344113         1.183947   \n",
            "13           3          25             200          0.343038         1.181261   \n",
            "14           3          30             100          0.336627         1.169148   \n",
            "15           3          30             200          0.335952         1.169236   \n",
            "16           7          10             100          0.750468         1.180374   \n",
            "17           7          10             200          0.751342         1.178879   \n",
            "18           7          15             100          0.718794         1.187412   \n",
            "19           7          15             200          0.718217         1.188041   \n",
            "20           7          25             100          0.695602         1.187883   \n",
            "21           7          25             200          0.695440         1.186980   \n",
            "22           7          30             100          0.691240         1.186354   \n",
            "23           7          30             200          0.691099         1.186486   \n",
            "24          10          10             100          0.928979         1.232047   \n",
            "25          10          10             200          0.928968         1.231819   \n",
            "26          10          15             100          0.913416         1.236517   \n",
            "27          10          15             200          0.913183         1.236512   \n",
            "28          10          25             100          0.902942         1.238392   \n",
            "29          10          25             200          0.902898         1.238539   \n",
            "30          10          30             100          0.901606         1.238643   \n",
            "31          10          30             200          0.901470         1.238629   \n",
            "\n",
            "    final_mae_train  final_mae_test  \n",
            "0          0.220266        1.054395  \n",
            "1          0.218952        1.052789  \n",
            "2          0.138760        1.091340  \n",
            "3          0.136102        1.083061  \n",
            "4          0.089805        0.980145  \n",
            "5          0.088560        0.976733  \n",
            "6          0.083623        0.949211  \n",
            "7          0.082399        0.937227  \n",
            "8          0.355005        0.944985  \n",
            "9          0.354039        0.939684  \n",
            "10         0.290348        0.947848  \n",
            "11         0.289060        0.950039  \n",
            "12         0.244328        0.921071  \n",
            "13         0.243052        0.917124  \n",
            "14         0.235766        0.907979  \n",
            "15         0.234871        0.907614  \n",
            "16         0.569348        0.913366  \n",
            "17         0.569958        0.910933  \n",
            "18         0.536250        0.919361  \n",
            "19         0.535518        0.919970  \n",
            "20         0.510398        0.919382  \n",
            "21         0.510406        0.918988  \n",
            "22         0.505695        0.917687  \n",
            "23         0.505421        0.918034  \n",
            "24         0.709744        0.954966  \n",
            "25         0.709526        0.954690  \n",
            "26         0.692209        0.958882  \n",
            "27         0.691989        0.958748  \n",
            "28         0.680410        0.960425  \n",
            "29         0.680381        0.960598  \n",
            "30         0.678881        0.960448  \n",
            "31         0.678752        0.960433  \n"
          ]
        },
        {
          "output_type": "error",
          "ename": "KeyError",
          "evalue": "'rmse_test'",
          "traceback": [
            "\u001b[0;31m---------------------------------------------------------------------------\u001b[0m",
            "\u001b[0;31mKeyError\u001b[0m                                  Traceback (most recent call last)",
            "\u001b[0;32m/usr/local/lib/python3.10/dist-packages/pandas/core/indexes/base.py\u001b[0m in \u001b[0;36mget_loc\u001b[0;34m(self, key)\u001b[0m\n\u001b[1;32m   3804\u001b[0m         \u001b[0;32mtry\u001b[0m\u001b[0;34m:\u001b[0m\u001b[0;34m\u001b[0m\u001b[0;34m\u001b[0m\u001b[0m\n\u001b[0;32m-> 3805\u001b[0;31m             \u001b[0;32mreturn\u001b[0m \u001b[0mself\u001b[0m\u001b[0;34m.\u001b[0m\u001b[0m_engine\u001b[0m\u001b[0;34m.\u001b[0m\u001b[0mget_loc\u001b[0m\u001b[0;34m(\u001b[0m\u001b[0mcasted_key\u001b[0m\u001b[0;34m)\u001b[0m\u001b[0;34m\u001b[0m\u001b[0;34m\u001b[0m\u001b[0m\n\u001b[0m\u001b[1;32m   3806\u001b[0m         \u001b[0;32mexcept\u001b[0m \u001b[0mKeyError\u001b[0m \u001b[0;32mas\u001b[0m \u001b[0merr\u001b[0m\u001b[0;34m:\u001b[0m\u001b[0;34m\u001b[0m\u001b[0;34m\u001b[0m\u001b[0m\n",
            "\u001b[0;32mindex.pyx\u001b[0m in \u001b[0;36mpandas._libs.index.IndexEngine.get_loc\u001b[0;34m()\u001b[0m\n",
            "\u001b[0;32mindex.pyx\u001b[0m in \u001b[0;36mpandas._libs.index.IndexEngine.get_loc\u001b[0;34m()\u001b[0m\n",
            "\u001b[0;32mpandas/_libs/hashtable_class_helper.pxi\u001b[0m in \u001b[0;36mpandas._libs.hashtable.PyObjectHashTable.get_item\u001b[0;34m()\u001b[0m\n",
            "\u001b[0;32mpandas/_libs/hashtable_class_helper.pxi\u001b[0m in \u001b[0;36mpandas._libs.hashtable.PyObjectHashTable.get_item\u001b[0;34m()\u001b[0m\n",
            "\u001b[0;31mKeyError\u001b[0m: 'rmse_test'",
            "\nThe above exception was the direct cause of the following exception:\n",
            "\u001b[0;31mKeyError\u001b[0m                                  Traceback (most recent call last)",
            "\u001b[0;32m<ipython-input-11-38638f450feb>\u001b[0m in \u001b[0;36m<cell line: 47>\u001b[0;34m()\u001b[0m\n\u001b[1;32m     45\u001b[0m \u001b[0;34m\u001b[0m\u001b[0m\n\u001b[1;32m     46\u001b[0m \u001b[0;31m# Identifier la meilleure combinaison d'hyperparamètres\u001b[0m\u001b[0;34m\u001b[0m\u001b[0;34m\u001b[0m\u001b[0m\n\u001b[0;32m---> 47\u001b[0;31m \u001b[0mbest_row\u001b[0m \u001b[0;34m=\u001b[0m \u001b[0mresults_df\u001b[0m\u001b[0;34m.\u001b[0m\u001b[0mloc\u001b[0m\u001b[0;34m[\u001b[0m\u001b[0mresults_df\u001b[0m\u001b[0;34m[\u001b[0m\u001b[0;34m'rmse_test'\u001b[0m\u001b[0;34m]\u001b[0m\u001b[0;34m.\u001b[0m\u001b[0midxmin\u001b[0m\u001b[0;34m(\u001b[0m\u001b[0;34m)\u001b[0m\u001b[0;34m]\u001b[0m\u001b[0;34m\u001b[0m\u001b[0;34m\u001b[0m\u001b[0m\n\u001b[0m\u001b[1;32m     48\u001b[0m \u001b[0mprint\u001b[0m\u001b[0;34m(\u001b[0m\u001b[0;34m\"\\nMeilleure combinaison d'hyperparamètres basée sur le RMSE de test :\"\u001b[0m\u001b[0;34m)\u001b[0m\u001b[0;34m\u001b[0m\u001b[0;34m\u001b[0m\u001b[0m\n\u001b[1;32m     49\u001b[0m \u001b[0mprint\u001b[0m\u001b[0;34m(\u001b[0m\u001b[0mbest_row\u001b[0m\u001b[0;34m)\u001b[0m\u001b[0;34m\u001b[0m\u001b[0;34m\u001b[0m\u001b[0m\n",
            "\u001b[0;32m/usr/local/lib/python3.10/dist-packages/pandas/core/frame.py\u001b[0m in \u001b[0;36m__getitem__\u001b[0;34m(self, key)\u001b[0m\n\u001b[1;32m   4100\u001b[0m             \u001b[0;32mif\u001b[0m \u001b[0mself\u001b[0m\u001b[0;34m.\u001b[0m\u001b[0mcolumns\u001b[0m\u001b[0;34m.\u001b[0m\u001b[0mnlevels\u001b[0m \u001b[0;34m>\u001b[0m \u001b[0;36m1\u001b[0m\u001b[0;34m:\u001b[0m\u001b[0;34m\u001b[0m\u001b[0;34m\u001b[0m\u001b[0m\n\u001b[1;32m   4101\u001b[0m                 \u001b[0;32mreturn\u001b[0m \u001b[0mself\u001b[0m\u001b[0;34m.\u001b[0m\u001b[0m_getitem_multilevel\u001b[0m\u001b[0;34m(\u001b[0m\u001b[0mkey\u001b[0m\u001b[0;34m)\u001b[0m\u001b[0;34m\u001b[0m\u001b[0;34m\u001b[0m\u001b[0m\n\u001b[0;32m-> 4102\u001b[0;31m             \u001b[0mindexer\u001b[0m \u001b[0;34m=\u001b[0m \u001b[0mself\u001b[0m\u001b[0;34m.\u001b[0m\u001b[0mcolumns\u001b[0m\u001b[0;34m.\u001b[0m\u001b[0mget_loc\u001b[0m\u001b[0;34m(\u001b[0m\u001b[0mkey\u001b[0m\u001b[0;34m)\u001b[0m\u001b[0;34m\u001b[0m\u001b[0;34m\u001b[0m\u001b[0m\n\u001b[0m\u001b[1;32m   4103\u001b[0m             \u001b[0;32mif\u001b[0m \u001b[0mis_integer\u001b[0m\u001b[0;34m(\u001b[0m\u001b[0mindexer\u001b[0m\u001b[0;34m)\u001b[0m\u001b[0;34m:\u001b[0m\u001b[0;34m\u001b[0m\u001b[0;34m\u001b[0m\u001b[0m\n\u001b[1;32m   4104\u001b[0m                 \u001b[0mindexer\u001b[0m \u001b[0;34m=\u001b[0m \u001b[0;34m[\u001b[0m\u001b[0mindexer\u001b[0m\u001b[0;34m]\u001b[0m\u001b[0;34m\u001b[0m\u001b[0;34m\u001b[0m\u001b[0m\n",
            "\u001b[0;32m/usr/local/lib/python3.10/dist-packages/pandas/core/indexes/base.py\u001b[0m in \u001b[0;36mget_loc\u001b[0;34m(self, key)\u001b[0m\n\u001b[1;32m   3810\u001b[0m             ):\n\u001b[1;32m   3811\u001b[0m                 \u001b[0;32mraise\u001b[0m \u001b[0mInvalidIndexError\u001b[0m\u001b[0;34m(\u001b[0m\u001b[0mkey\u001b[0m\u001b[0;34m)\u001b[0m\u001b[0;34m\u001b[0m\u001b[0;34m\u001b[0m\u001b[0m\n\u001b[0;32m-> 3812\u001b[0;31m             \u001b[0;32mraise\u001b[0m \u001b[0mKeyError\u001b[0m\u001b[0;34m(\u001b[0m\u001b[0mkey\u001b[0m\u001b[0;34m)\u001b[0m \u001b[0;32mfrom\u001b[0m \u001b[0merr\u001b[0m\u001b[0;34m\u001b[0m\u001b[0;34m\u001b[0m\u001b[0m\n\u001b[0m\u001b[1;32m   3813\u001b[0m         \u001b[0;32mexcept\u001b[0m \u001b[0mTypeError\u001b[0m\u001b[0;34m:\u001b[0m\u001b[0;34m\u001b[0m\u001b[0;34m\u001b[0m\u001b[0m\n\u001b[1;32m   3814\u001b[0m             \u001b[0;31m# If we have a listlike key, _check_indexing_error will raise\u001b[0m\u001b[0;34m\u001b[0m\u001b[0;34m\u001b[0m\u001b[0m\n",
            "\u001b[0;31mKeyError\u001b[0m: 'rmse_test'"
          ]
        }
      ]
    },
    {
      "cell_type": "markdown",
      "source": [
        "####Meilleure combinaison d'hyper-paramètres"
      ],
      "metadata": {
        "id": "UUaVnv00kLEb"
      }
    },
    {
      "cell_type": "code",
      "source": [
        "# Identifier la meilleure combinaison d'hyperparamètres\n",
        "best_row = results_df.loc[results_df['final_rmse_test'].idxmin()]\n",
        "print(\"\\nMeilleure combinaison d'hyperparamètres basée sur le RMSE de test :\")\n",
        "print(best_row)"
      ],
      "metadata": {
        "colab": {
          "base_uri": "https://localhost:8080/"
        },
        "id": "8GLfMantjRZB",
        "outputId": "30b63959-b7da-4188-fce0-68735bf110d3"
      },
      "execution_count": 12,
      "outputs": [
        {
          "output_type": "stream",
          "name": "stdout",
          "text": [
            "\n",
            "Meilleure combinaison d'hyperparamètres basée sur le RMSE de test :\n",
            "lambda_reg            3.000000\n",
            "num_latent           30.000000\n",
            "num_iterations      100.000000\n",
            "final_rmse_train      0.336627\n",
            "final_rmse_test       1.169148\n",
            "final_mae_train       0.235766\n",
            "final_mae_test        0.907979\n",
            "Name: 14, dtype: float64\n"
          ]
        }
      ]
    },
    {
      "cell_type": "markdown",
      "source": [
        "##Prédire les ratings spécifiées"
      ],
      "metadata": {
        "id": "J9vA5IOaTFMv"
      }
    },
    {
      "cell_type": "code",
      "source": [
        "from scipy.sparse import lil_matrix\n",
        "\n",
        "# Entraîner le modèle ALS avec la meilleure combinaison trouvée\n",
        "num_latent = 30\n",
        "lambda_reg = 3\n",
        "num_iterations = 100\n",
        "U, V, train_rmse_set, test_rmse_set, train_mae_set, test_mae_set = train_ALS(ratings_train, ratings_test, num_latent, lambda_reg, num_iterations)\n",
        "\n",
        "# Charger les indices à prédire\n",
        "list_index_wanted = np.load('list_index_wanted.npy')\n",
        "\n",
        "# Calculer les prédictions pour chaque utilisateur et item\n",
        "predictions = np.dot(U, V.T)\n",
        "\n",
        "# Limiter les valeurs prédites dans l'intervalle [0.5, 5]\n",
        "clipped_predictions = np.clip(predictions, a_min=0.5, a_max=5)\n",
        "\n",
        "# Créer une matrice creuse pour stocker les valeurs prédites spécifiées dans `list_index_wanted`\n",
        "num_users, num_items = ratings_train.shape\n",
        "sparse_matrix = lil_matrix((num_users, num_items))\n",
        "\n",
        "# Remplir la matrice creuse avec les prédictions pour les indices voulus\n",
        "for user, item in list_index_wanted:\n",
        "    if user < num_users and item < num_items:\n",
        "        sparse_matrix[user, item] = clipped_predictions[user, item]\n",
        "\n",
        "# Sauvegarder la matrice creuse au format .npy\n",
        "np.save('ALS_predicted_ratings_matrix.npy', sparse_matrix)\n",
        "\n",
        "print(\"Prédictions terminées et matrice creuse sauvegardée avec succès.\")\n"
      ],
      "metadata": {
        "colab": {
          "base_uri": "https://localhost:8080/"
        },
        "id": "Y58mZBCoSwJ4",
        "outputId": "633c023c-3531-48f5-b332-17046ddd21a2"
      },
      "execution_count": 23,
      "outputs": [
        {
          "output_type": "stream",
          "name": "stdout",
          "text": [
            "Prédictions terminées et matrice creuse sauvegardée avec succès.\n"
          ]
        }
      ]
    },
    {
      "cell_type": "markdown",
      "source": [
        "#III. ALS du package pyspark"
      ],
      "metadata": {
        "id": "tArgJ435a2oX"
      }
    },
    {
      "cell_type": "markdown",
      "source": [
        "###Charger les données et les transformer en format adéquat (triplets)"
      ],
      "metadata": {
        "id": "TlRtFX4ydx20"
      }
    },
    {
      "cell_type": "code",
      "source": [
        "import numpy as np\n",
        "import math\n",
        "import pandas as pd\n",
        "\n",
        "# Charger les données\n",
        "ratings_train = pd.read_excel('ratings_train.xlsx', header=None).values\n",
        "ratings_test = pd.read_excel('ratings_test.xlsx').values\n",
        "\n",
        "# Transformer en triplets (user, item, rating) en tenant compte des NaN\n",
        "train_triplets = []\n",
        "num_users, num_items = ratings_train.shape\n",
        "for user in range(num_users):\n",
        "    for item in range(num_items):\n",
        "        rating = ratings_train[user, item]  # Accéder directement à l'élément via NumPy\n",
        "        if not math.isnan(rating):  # Vérifier si la valeur n'est pas NaN\n",
        "            train_triplets.append((user, item, rating))\n",
        "\n",
        "test_triplets = []\n",
        "num_users, num_items = ratings_test.shape\n",
        "for user in range(num_users):\n",
        "    for item in range(num_items):\n",
        "        rating = ratings_train[user, item]  # Accéder directement à l'élément via NumPy\n",
        "        if not math.isnan(rating):  # Vérifier si la valeur n'est pas NaN\n",
        "            test_triplets.append((user, item, rating))\n",
        "\n",
        "# Charger les triplets\n",
        "train_triplets = [(int(user), int(item), float(rating)) for user, item, rating in train_triplets]\n",
        "test_triplets = [(int(user), int(item), float(rating)) for user, item, rating in test_triplets]\n"
      ],
      "metadata": {
        "id": "Sj1kOXezbAza"
      },
      "execution_count": 20,
      "outputs": []
    },
    {
      "cell_type": "markdown",
      "source": [
        "###Entrainer le modèle et évaluer le avec les données de test"
      ],
      "metadata": {
        "id": "LZcLQzW4d_P4"
      }
    },
    {
      "cell_type": "code",
      "source": [
        "from pyspark.ml.evaluation import RegressionEvaluator\n",
        "from pyspark.ml.recommendation import ALS\n",
        "from pyspark.sql import SparkSession\n",
        "\n",
        "# Créer une session Spark\n",
        "spark = SparkSession.builder.appName(\"ALSExample\").getOrCreate()\n",
        "\n",
        "# Convertir les triplets d'entraînement et de test en DataFrames Spark\n",
        "train_df = spark.createDataFrame(train_triplets, [\"user\", \"item\", \"rating\"])\n",
        "test_df = spark.createDataFrame(test_triplets, [\"user\", \"item\", \"rating\"])\n",
        "\n",
        "# Définir le modèle ALS\n",
        "als = ALS(maxIter=10, regParam=0.1, userCol=\"user\", itemCol=\"item\", ratingCol=\"rating\", coldStartStrategy=\"drop\")\n",
        "\n",
        "# Entraîner le modèle sur l'ensemble d'entraînement\n",
        "als_model = als.fit(train_df)\n",
        "\n",
        "# Faire des prédictions sur l'ensemble de test\n",
        "predictions = als_model.transform(test_df)\n",
        "\n",
        "# Calculer le RMSE sur les prédictions\n",
        "evaluator = RegressionEvaluator(metricName=\"rmse\", labelCol=\"rating\", predictionCol=\"prediction\")\n",
        "rmse = evaluator.evaluate(predictions)\n",
        "print(f\"RMSE sur l'ensemble de test : {rmse}\")\n"
      ],
      "metadata": {
        "colab": {
          "base_uri": "https://localhost:8080/"
        },
        "id": "vDP1q12fdw43",
        "outputId": "20aa319a-4ce6-477c-d244-ec44441f4a06"
      },
      "execution_count": 21,
      "outputs": [
        {
          "output_type": "stream",
          "name": "stdout",
          "text": [
            "RMSE sur l'ensemble de test : 0.423411183168181\n"
          ]
        }
      ]
    },
    {
      "cell_type": "markdown",
      "source": [
        "###Prédire les ratings spécifiées sur list_ratings_wanted"
      ],
      "metadata": {
        "id": "OHoMtlhnntzr"
      }
    },
    {
      "cell_type": "code",
      "source": [
        "from scipy.sparse import lil_matrix\n",
        "from pyspark.sql import Row\n",
        "\n",
        "# Charger le fichier `list_index_wanted.npy` contenant les indices (utilisateur, item) à prédire\n",
        "list_index_wanted = np.load('list_index_wanted.npy')\n",
        "\n",
        "# Préparer les données pour la prédiction\n",
        "wanted_triplets = [Row(user=int(user), item=int(item)) for user, item in list_index_wanted]\n",
        "wanted_df = spark.createDataFrame(wanted_triplets)\n",
        "\n",
        "# Faire des prédictions pour les indices donnés dans `list_index_wanted`\n",
        "predictions = als_model.transform(wanted_df)\n",
        "\n",
        "# Convertir les prédictions en Pandas DataFrame\n",
        "predictions_df = predictions.select(\"user\", \"item\", \"prediction\").toPandas()\n",
        "\n",
        "# Créer une matrice creuse pour stocker les prédictions\n",
        "sparse_matrix = lil_matrix((num_users, num_items))\n",
        "\n",
        "# Remplir la matrice creuse avec les prédictions\n",
        "for _, row in predictions_df.iterrows():\n",
        "    user = int(row['user'])\n",
        "    item = int(row['item'])\n",
        "    predicted_rating = float(row['prediction'])\n",
        "\n",
        "    # Limiter la valeur prédite dans l'intervalle [0.5, 5]\n",
        "    predicted_rating = np.clip(predicted_rating, a_min=0.5, a_max=5)\n",
        "\n",
        "    # Ajouter la prédiction dans la matrice creuse\n",
        "    sparse_matrix[user, item] = predicted_rating\n",
        "\n",
        "# Sauvegarder la matrice creuse au format .npy\n",
        "np.save('ALS_pyspark_predicted_ratings_matrix.npy', sparse_matrix)\n",
        "\n",
        "print(\"Prédictions terminées et matrice creuse sauvegardée avec succès.\")\n",
        "\n",
        "# Arrêter la session Spark\n",
        "spark.stop()"
      ],
      "metadata": {
        "colab": {
          "base_uri": "https://localhost:8080/"
        },
        "id": "3w1vl7D4nvCY",
        "outputId": "0e019957-26b0-4ddb-d470-c58913fe3e9e"
      },
      "execution_count": 22,
      "outputs": [
        {
          "output_type": "stream",
          "name": "stdout",
          "text": [
            "Prédictions terminées et matrice creuse sauvegardée avec succès.\n"
          ]
        }
      ]
    },
    {
      "cell_type": "markdown",
      "source": [
        "#IIII. Descente de gradient"
      ],
      "metadata": {
        "id": "FaahyYhxYd9I"
      }
    },
    {
      "cell_type": "markdown",
      "source": [
        "###Définir les fonctions constituant le modèle"
      ],
      "metadata": {
        "id": "mr4Jm5lpaF5H"
      }
    },
    {
      "cell_type": "code",
      "source": [
        "# Charger les données\n",
        "ratings_train = np.load('ratings_train.npy')\n",
        "ratings_test = np.load('ratings_test.npy')\n",
        "\n",
        "# Fonction de perte\n",
        "def compute_loss(R, U, V, lambda_reg, mu_reg):\n",
        "    prediction = np.dot(U, V.T)\n",
        "    mask = ~np.isnan(R)\n",
        "    error = R - prediction\n",
        "    error[~mask] = 0  # Remplacer les NaN par des zéros après l'application du masque  # Remplacer les NaN par des zéros après l'application du masque\n",
        "    loss = np.sum(error**2) + lambda_reg * np.sum(U**2) + mu_reg * np.sum(V**2)\n",
        "    return loss\n",
        "\n",
        "# Gradient pour U et V\n",
        "def compute_gradient_U(R, U, V, mu_reg):\n",
        "    prediction = np.dot(U, V.T)\n",
        "    mask = ~np.isnan(R)\n",
        "    error = R - prediction\n",
        "    error[~mask] = 0  # Remplacer les NaN par des zéros après l'application du masque\n",
        "    grad_U_latent = -2 * np.dot(error, V) + 2 * mu_reg * U\n",
        "    return grad_U_latent\n",
        "\n",
        "def compute_gradient_V(R, U, V, lambda_reg):\n",
        "    # V_enriched = np.hstack((V, genres_encoded))\n",
        "    prediction = np.dot(U, V.T)\n",
        "    mask = ~np.isnan(R)\n",
        "    error = R - prediction\n",
        "    error[~mask] = 0  # Remplacer les NaN par des zéros après l'application du masque\n",
        "    grad_V = -2 * np.dot(error.T, U) + 2 * lambda_reg * V\n",
        "    return grad_V\n",
        "\n",
        "# Retourne le RMSE et MAE\n",
        "def RMSE_MAE(R, predictions):\n",
        "    mask = ~np.isnan(R)\n",
        "    rmse = np.sqrt(np.mean((R[mask] - predictions[mask])**2))\n",
        "    mae = np.mean(np.abs(R[mask] - predictions[mask]))\n",
        "    return rmse, mae\n",
        "\n",
        "# Lists to track metrics for plotting\n",
        "rmse_train_list = []\n",
        "rmse_test_list = []\n",
        "mae_train_list = []\n",
        "mae_test_list = []\n",
        "\n",
        "# Algorithme de descente de gradient modifié\n",
        "def gradient_descent(R, T, latent_features, learning_rate, lambda_reg, mu_reg, num_iterations):\n",
        "    num_users, num_items = R.shape\n",
        "    U = np.random.rand(num_users, latent_features)\n",
        "    V = np.random.rand(num_items, latent_features)\n",
        "\n",
        "    for iteration in range(num_iterations):\n",
        "        grad_U_latent = compute_gradient_U(R, U, V, mu_reg)\n",
        "        grad_V_latent = compute_gradient_V(R, U, V, lambda_reg)\n",
        "\n",
        "        predictions = np.dot(U, V.T)\n",
        "\n",
        "        # Vérification des gradients\n",
        "        assert not np.isnan(grad_U_latent).any(), \"NaN found in grad_U_latent\"\n",
        "        assert not np.isnan(grad_V_latent).any(), \"NaN found in grad_V\"\n",
        "        assert not np.isinf(grad_U_latent).any(), \"Inf found in grad_U_latent\"\n",
        "        assert not np.isinf(grad_V_latent).any(), \"Inf found in grad_V\"\n",
        "\n",
        "        U -= learning_rate * grad_U_latent\n",
        "        V -= learning_rate * grad_V_latent\n",
        "\n",
        "        rmse_train, mae_train = RMSE_MAE(R, predictions)\n",
        "        rmse_test, mae_test = RMSE_MAE(T, predictions)\n",
        "\n",
        "        rmse_train_list.append(rmse_train)\n",
        "        rmse_test_list.append(rmse_test)\n",
        "        mae_train_list.append(mae_train)\n",
        "        mae_test_list.append(mae_test)\n",
        "\n",
        "        if iteration % 100 == 0:\n",
        "            loss = compute_loss(R, U, V, lambda_reg, mu_reg)\n",
        "            print(f\"Iteration {iteration}: Loss = {loss}\")\n",
        "\n",
        "    return U, V\n"
      ],
      "metadata": {
        "id": "H1hKwrNNYdA4"
      },
      "execution_count": 14,
      "outputs": []
    },
    {
      "cell_type": "markdown",
      "source": [
        "###Entrainer le modèle"
      ],
      "metadata": {
        "id": "Y4RNZWsJaRYk"
      }
    },
    {
      "cell_type": "code",
      "source": [
        "# Paramètres du modèle\n",
        "learning_rate = 0.0001\n",
        "lambda_reg = 0.1\n",
        "mu_reg = 0.1\n",
        "num_iterations = 200\n",
        "latent_features = 10\n",
        "\n",
        "# Entraîner le modèle\n",
        "U, V = gradient_descent(ratings_train, ratings_test, latent_features, learning_rate, lambda_reg, mu_reg, num_iterations)\n",
        "predictions = np.dot(U, V.T)\n",
        "R_quantized = np.round(predictions / 0.5) * 0.5\n",
        "np.clip(R_quantized, 0.5, 5)\n",
        "rmse_train, mae_train = RMSE_MAE(ratings_train, R_quantized)\n",
        "rmse_test, mae_test = RMSE_MAE(ratings_test, R_quantized)\n",
        "\n",
        "# print les finaux\n",
        "print(\"RMSE train:\", rmse_train)\n",
        "print(\"RMSE test:\", rmse_test)\n",
        "print(\"MAE train:\", mae_train)\n",
        "print(\"MAE test:\", mae_test)"
      ],
      "metadata": {
        "colab": {
          "base_uri": "https://localhost:8080/"
        },
        "id": "p0UMfFQoaQJb",
        "outputId": "f6263d76-621c-4d56-bd54-0a90ee3350d9"
      },
      "execution_count": 15,
      "outputs": [
        {
          "output_type": "stream",
          "name": "stdout",
          "text": [
            "Iteration 0: Loss = 79646.00410914359\n",
            "Iteration 100: Loss = 27358.90442946902\n",
            "RMSE train: 0.8311980788104092\n",
            "RMSE test: 0.9443248793794705\n",
            "MAE train: 0.6252452686878917\n",
            "MAE test: 0.7146971327299196\n"
          ]
        }
      ]
    },
    {
      "cell_type": "markdown",
      "source": [
        "###Afficher les variations du RMSE & MAE au fil de l'entrainement (évolution)"
      ],
      "metadata": {
        "id": "YdpnNznaaZwC"
      }
    },
    {
      "cell_type": "code",
      "source": [
        "import matplotlib.pyplot as plt\n",
        "\n",
        "# Tracer le RMSE pour l'entraînement et le test sur le même graphe\n",
        "plt.figure(figsize=(10, 5))\n",
        "plt.plot(range(num_iterations), rmse_train_list, label='RMSE - Train', color='b', linestyle='-', marker='o')\n",
        "plt.plot(range(num_iterations), rmse_test_list, label='RMSE - Test', color='r', linestyle='-', marker='x')\n",
        "plt.xlabel('Iterations')\n",
        "plt.ylabel('RMSE')\n",
        "plt.title('RMSE for Train and Test Data over Iterations')\n",
        "plt.legend()\n",
        "plt.grid(True)\n",
        "plt.show()\n",
        "\n",
        "# Tracer le MAE pour l'entraînement et le test sur le même graphe\n",
        "plt.figure(figsize=(10, 5))\n",
        "plt.plot(range(num_iterations), mae_train_list, label='MAE - Train', color='b', linestyle='-', marker='o')\n",
        "plt.plot(range(num_iterations), mae_test_list, label='MAE - Test', color='r', linestyle='-', marker='x')\n",
        "plt.xlabel('Iterations')\n",
        "plt.ylabel('MAE')\n",
        "plt.title('MAE for Train and Test Data over Iterations')\n",
        "plt.legend()\n",
        "plt.grid(True)\n",
        "plt.show()\n"
      ],
      "metadata": {
        "colab": {
          "base_uri": "https://localhost:8080/",
          "height": 957
        },
        "id": "P6IZIkLjZwKV",
        "outputId": "e9ad6d55-399b-4dd6-f242-68d782f837c4"
      },
      "execution_count": 16,
      "outputs": [
        {
          "output_type": "display_data",
          "data": {
            "text/plain": [
              "<Figure size 1000x500 with 1 Axes>"
            ],
            "image/png": "[encoded data removed]"
          },
          "metadata": {}
        },
        {
          "output_type": "display_data",
          "data": {
            "text/plain": [
              "<Figure size 1000x500 with 1 Axes>"
            ],
            "image/png": "[encoded data removed]"
          },
          "metadata": {}
        }
      ]
    },
    {
      "cell_type": "markdown",
      "source": [
        "###Essayer un jeu d'hyper-paramètres pour en trouver la meilleure combinaison"
      ],
      "metadata": {
        "id": "WG0rwoJOaccp"
      }
    },
    {
      "cell_type": "code",
      "source": [
        "import itertools\n",
        "\n",
        "# Définir les hyperparamètres à tester\n",
        "learning_rates = [0.0001, 0.0005]\n",
        "lambda_regs = [1, 5]\n",
        "latent_features_list = [10, 20]\n",
        "num_iterations_list = [100, 200]\n",
        "\n",
        "# Stocker les résultats\n",
        "results = []\n",
        "\n",
        "# Tester toutes les combinaisons possibles d'hyperparamètres\n",
        "for learning_rate, lambda_reg, latent_features, num_iterations in itertools.product(\n",
        "        learning_rates, lambda_regs, latent_features_list, num_iterations_list):\n",
        "\n",
        "    mu_reg = lambda_reg\n",
        "\n",
        "    print(f\"\\nTesting Combination: learning_rate={learning_rate}, lambda_reg={lambda_reg}, mu_reg={mu_reg}, latent_features={latent_features}, num_iterations={num_iterations}\")\n",
        "\n",
        "    U, V = gradient_descent(ratings_train, ratings_test, latent_features, learning_rate, lambda_reg, mu_reg, num_iterations)\n",
        "    predictions = np.dot(U, V.T)\n",
        "\n",
        "    # Limiter les valeurs prédites dans l'intervalle [0.5, 5]\n",
        "    clipped_predictions = np.clip(predictions, a_min=0.5, a_max=5)\n",
        "\n",
        "    # Calculer les métriques pour l'ensemble d'entraînement et de test\n",
        "    train_rmse, train_mae = RMSE_MAE(ratings_train, clipped_predictions)\n",
        "    test_rmse, test_mae = RMSE_MAE(ratings_test, clipped_predictions)\n",
        "\n",
        "    # Stocker les résultats\n",
        "    results.append({\n",
        "        \"learning_rate\": learning_rate,\n",
        "        \"lambda_reg\": lambda_reg,\n",
        "        \"mu_reg\": mu_reg,\n",
        "        \"latent_features\": latent_features,\n",
        "        \"num_iterations\": num_iterations,\n",
        "        \"train_rmse\": train_rmse,\n",
        "        \"test_rmse\": test_rmse,\n",
        "        \"train_mae\": train_mae,\n",
        "        \"test_mae\": test_mae\n",
        "    })\n",
        "\n",
        "# Créer un DataFrame pour visualiser les résultats\n",
        "results_df = pd.DataFrame(results)\n",
        "best_combination = results_df.loc[results_df['test_rmse'].idxmin()]\n",
        "\n",
        "print(\"\\nBest Hyperparameter Combination:\")\n",
        "print(best_combination)"
      ],
      "metadata": {
        "colab": {
          "base_uri": "https://localhost:8080/"
        },
        "id": "JYh3bjK6abpb",
        "outputId": "95a17b9c-eedd-432a-bf54-1fc63901b1ad"
      },
      "execution_count": 18,
      "outputs": [
        {
          "output_type": "stream",
          "name": "stdout",
          "text": [
            "\n",
            "Testing Combination: learning_rate=0.0001, lambda_reg=1, mu_reg=1, latent_features=10, num_iterations=100\n",
            "Iteration 0: Loss = 97551.37837803096\n",
            "\n",
            "Testing Combination: learning_rate=0.0001, lambda_reg=1, mu_reg=1, latent_features=10, num_iterations=200\n",
            "Iteration 0: Loss = 94683.77974496488\n",
            "Iteration 100: Loss = 44717.928157020564\n",
            "\n",
            "Testing Combination: learning_rate=0.0001, lambda_reg=1, mu_reg=1, latent_features=20, num_iterations=100\n",
            "Iteration 0: Loss = 135669.71394281136\n",
            "\n",
            "Testing Combination: learning_rate=0.0001, lambda_reg=1, mu_reg=1, latent_features=20, num_iterations=200\n",
            "Iteration 0: Loss = 135214.83529179846\n",
            "Iteration 100: Loss = 59106.10810074475\n",
            "\n",
            "Testing Combination: learning_rate=0.0001, lambda_reg=5, mu_reg=5, latent_features=10, num_iterations=100\n",
            "Iteration 0: Loss = 170543.5341184619\n",
            "\n",
            "Testing Combination: learning_rate=0.0001, lambda_reg=5, mu_reg=5, latent_features=10, num_iterations=200\n",
            "Iteration 0: Loss = 169677.05345672648\n",
            "Iteration 100: Loss = 112318.45143424574\n",
            "\n",
            "Testing Combination: learning_rate=0.0001, lambda_reg=5, mu_reg=5, latent_features=20, num_iterations=100\n",
            "Iteration 0: Loss = 285649.06120741804\n",
            "\n",
            "Testing Combination: learning_rate=0.0001, lambda_reg=5, mu_reg=5, latent_features=20, num_iterations=200\n",
            "Iteration 0: Loss = 287341.84407347965\n",
            "Iteration 100: Loss = 170805.50544573885\n",
            "\n",
            "Testing Combination: learning_rate=0.0005, lambda_reg=1, mu_reg=1, latent_features=10, num_iterations=100\n",
            "Iteration 0: Loss = 78036.91817409905\n",
            "\n",
            "Testing Combination: learning_rate=0.0005, lambda_reg=1, mu_reg=1, latent_features=10, num_iterations=200\n",
            "Iteration 0: Loss = 77939.18835451559\n",
            "Iteration 100: Loss = 34583.170453479994\n",
            "\n",
            "Testing Combination: learning_rate=0.0005, lambda_reg=1, mu_reg=1, latent_features=20, num_iterations=100\n",
            "Iteration 0: Loss = 126758.24390417524\n",
            "\n",
            "Testing Combination: learning_rate=0.0005, lambda_reg=1, mu_reg=1, latent_features=20, num_iterations=200\n",
            "Iteration 0: Loss = 186396.34015703743\n",
            "Iteration 100: Loss = 41131.320189356775\n",
            "\n",
            "Testing Combination: learning_rate=0.0005, lambda_reg=5, mu_reg=5, latent_features=10, num_iterations=100\n",
            "Iteration 0: Loss = 154962.54923531984\n",
            "\n",
            "Testing Combination: learning_rate=0.0005, lambda_reg=5, mu_reg=5, latent_features=10, num_iterations=200\n",
            "Iteration 0: Loss = 154136.60779061745\n",
            "Iteration 100: Loss = 80293.53690275823\n",
            "\n",
            "Testing Combination: learning_rate=0.0005, lambda_reg=5, mu_reg=5, latent_features=20, num_iterations=100\n",
            "Iteration 0: Loss = 325868.8360299876\n",
            "\n",
            "Testing Combination: learning_rate=0.0005, lambda_reg=5, mu_reg=5, latent_features=20, num_iterations=200\n",
            "Iteration 0: Loss = 316229.6611108712\n",
            "Iteration 100: Loss = 94150.04202435042\n",
            "\n",
            "Best Hyperparameter Combination:\n",
            "learning_rate        0.000500\n",
            "lambda_reg           1.000000\n",
            "mu_reg               1.000000\n",
            "latent_features     10.000000\n",
            "num_iterations     100.000000\n",
            "train_rmse           0.732496\n",
            "test_rmse            0.919099\n",
            "train_mae            0.569397\n",
            "test_mae             0.711760\n",
            "Name: 8, dtype: float64\n"
          ]
        }
      ]
    },
    {
      "cell_type": "markdown",
      "source": [
        "###Prédire les ratings spécifiées sur list_ratings_wanted"
      ],
      "metadata": {
        "id": "nQt9WFb7hT03"
      }
    },
    {
      "cell_type": "code",
      "source": [
        "from scipy.sparse import lil_matrix\n",
        "\n",
        "# Entraîner le modèle avec la meilleure combinaison trouvée\n",
        "learning_rate = 0.0005\n",
        "lambda_reg = 1\n",
        "mu_reg = 1\n",
        "latent_features = 10\n",
        "num_iterations = 100\n",
        "U, V = gradient_descent(ratings_train, ratings_test, latent_features, learning_rate, lambda_reg, mu_reg, num_iterations)\n",
        "\n",
        "list_index_wanted = np.load('list_index_wanted.npy')\n",
        "\n",
        "# Créer une matrice creuse pour stocker les prédictions\n",
        "num_users, num_items = ratings_train.shape\n",
        "sparse_matrix = lil_matrix((num_users, num_items))\n",
        "\n",
        "# Faire des prédictions pour les couples (utilisateur, item) spécifiés dans `list_index_wanted`\n",
        "for user, item in list_index_wanted:\n",
        "    if user < num_users and item < num_items:\n",
        "        # Prédire la note pour le couple (utilisateur, item)\n",
        "        predicted_rating = np.dot(U[user, :], V[item, :].T)\n",
        "\n",
        "        # Limiter la valeur prédite dans l'intervalle [0.5, 5]\n",
        "        predicted_rating = np.clip(predicted_rating, a_min=0.5, a_max=5)\n",
        "\n",
        "        # Ajouter la prédiction dans la matrice creuse\n",
        "        sparse_matrix[user, item] = predicted_rating\n",
        "\n",
        "# Sauvegarder la matrice creuse au format .npy\n",
        "np.save('SGD_predicted_ratings_matrix.npy', sparse_matrix)\n",
        "\n",
        "print(\"Prédictions terminées et matrice creuse sauvegardée avec succès.\")"
      ],
      "metadata": {
        "colab": {
          "base_uri": "https://localhost:8080/"
        },
        "id": "GyuB2n2Ihmq1",
        "outputId": "7c751b3c-c40c-4563-f13f-3a5e5e952219"
      },
      "execution_count": 19,
      "outputs": [
        {
          "output_type": "stream",
          "name": "stdout",
          "text": [
            "Iteration 0: Loss = 76769.90230277476\n",
            "Prédictions terminées et matrice creuse sauvegardée avec succès.\n"
          ]
        }
      ]
    },
    {
      "cell_type": "markdown",
      "source": [
        "#IIIII. la méthode utilisant XGBoost"
      ],
      "metadata": {
        "id": "7FB7ioS5iAVi"
      }
    },
    {
      "cell_type": "markdown",
      "source": [
        "###Charger les données"
      ],
      "metadata": {
        "id": "V0W7zyfUkd1Y"
      }
    },
    {
      "cell_type": "code",
      "source": [
        "import xgboost as xgb\n",
        "import pandas as pd\n",
        "import numpy as np\n",
        "from sklearn.preprocessing import MultiLabelBinarizer\n",
        "from sklearn.metrics import mean_squared_error\n",
        "from sklearn.model_selection import train_test_split\n",
        "\n",
        "# Charger les données d'entraînement et de test\n",
        "ratings_train = pd.read_excel('ratings_train.xlsx', header=None)\n",
        "ratings_test = pd.read_excel('ratings_test.xlsx')\n",
        "\n",
        "# Préparer les données d'entraînement et de test en format de triplets (user, item, rating)\n",
        "def prepare_triplets(data):\n",
        "    triplets = []\n",
        "    num_users, num_items = data.shape\n",
        "    for user in range(num_users):\n",
        "        for item in range(num_items):\n",
        "            rating = data.iloc[user, item]\n",
        "            if not pd.isna(rating):\n",
        "                triplets.append((user, item, rating))\n",
        "    return triplets\n",
        "\n",
        "train_triplets = prepare_triplets(ratings_train)\n",
        "test_triplets = prepare_triplets(ratings_test)\n",
        "\n",
        "# Préparer les caractéristiques pour chaque triplet\n",
        "def prepare_features(triplets, genres_encoded):\n",
        "    X = []\n",
        "    y = []\n",
        "    for user, item, rating in triplets:\n",
        "        # Créer les features : ID de l'utilisateur, ID de l'item, et genres encodés\n",
        "        item_genres = genres_encoded[item] if item < len(genres_encoded) else np.zeros(genres_encoded.shape[1])\n",
        "        feature_vector = [user, item] + list(item_genres)\n",
        "        X.append(feature_vector)\n",
        "        y.append(rating)\n",
        "    return np.array(X), np.array(y)\n",
        "\n",
        "# Préparer les caractéristiques d'entraînement et de test\n",
        "X_train, y_train = prepare_features(train_triplets, genres_encoded)\n",
        "X_test, y_test = prepare_features(test_triplets, genres_encoded)\n"
      ],
      "metadata": {
        "id": "y07ByGMBiIi5"
      },
      "execution_count": null,
      "outputs": []
    },
    {
      "cell_type": "markdown",
      "source": [
        "###Entrainer le modèle"
      ],
      "metadata": {
        "id": "gNdqgJ6jkcnw"
      }
    },
    {
      "cell_type": "code",
      "source": [
        "# Entraîner XGBoost sur les données d'entraînement\n",
        "xgboost_model = xgb.XGBRegressor(objective='reg:squarederror', n_estimators=100, learning_rate=0.1, max_depth=5)\n",
        "xgboost_model.fit(X_train, y_train)\n",
        "\n",
        "# Faire des prédictions sur les données de test\n",
        "y_pred = xgboost_model.predict(X_test)\n",
        "\n",
        "# Calculer le RMSE\n",
        "rmse = mean_squared_error(y_test, y_pred, squared=False)\n",
        "print(f\"RMSE sur l'ensemble de test avec XGBoost : {rmse}\")"
      ],
      "metadata": {
        "id": "_DL1KAKAkxJu"
      },
      "execution_count": null,
      "outputs": []
    },
    {
      "cell_type": "markdown",
      "source": [
        "###Prédire les ratings spécifiés dans list_ratings_wanted"
      ],
      "metadata": {
        "id": "RPKvumXZk14X"
      }
    },
    {
      "cell_type": "code",
      "source": [
        "from scipy.sparse import lil_matrix\n",
        "\n",
        "# Charger la liste des index à prédire\n",
        "list_index_wanted = np.load('list_index_wanted.npy')\n",
        "\n",
        "# Créer une matrice creuse pour stocker les prédictions\n",
        "num_users = ratings_train.shape[0]\n",
        "num_items = ratings_train.shape[1]\n",
        "sparse_matrix = lil_matrix((num_users, num_items))\n",
        "\n",
        "# Prédire les ratings des (user, item) spécifiés dans 'list_index_wanted'\n",
        "for user, item in list_index_wanted:\n",
        "    # Créer les features pour le couple (user, item)\n",
        "    if item < len(genres_encoded):\n",
        "        item_genres = genres_encoded[item]\n",
        "    else:\n",
        "        item_genres = np.zeros(genres_encoded.shape[1])\n",
        "\n",
        "    feature_vector = [user, item] + list(item_genres)\n",
        "    feature_vector = np.array(feature_vector).reshape(1, -1)\n",
        "\n",
        "    # Faire la prédiction\n",
        "    predicted_rating = xgboost_model.predict(feature_vector)[0]\n",
        "\n",
        "    # Ajouter la prédiction dans la matrice creuse\n",
        "    sparse_matrix[user, item] = predicted_rating\n",
        "\n",
        "# Sauvegarder la matrice creuse au format .npy\n",
        "np.save('XGB_predicted_ratings_matrix.npy', sparse_matrix)\n",
        "\n",
        "print(\"Prédictions terminées et matrice creuse sauvegardée avec succès.\")"
      ],
      "metadata": {
        "id": "S0krBtIHlKDp"
      },
      "execution_count": null,
      "outputs": []
    }
  ]
}